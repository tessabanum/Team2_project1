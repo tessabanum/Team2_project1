{
 "cells": [
  {
   "cell_type": "code",
   "execution_count": 12,
   "metadata": {},
   "outputs": [],
   "source": [
    "import pandas as pd\n",
    "import numpy as np\n",
    "import matplotlib.pyplot as plt\n",
    "from scipy import stats"
   ]
  },
  {
   "cell_type": "code",
   "execution_count": null,
   "metadata": {},
   "outputs": [],
   "source": []
  },
  {
   "cell_type": "code",
   "execution_count": 13,
   "metadata": {},
   "outputs": [
    {
     "data": {
      "text/plain": [
       "<matplotlib.collections.PathCollection at 0x1c3e21e49b0>"
      ]
     },
     "execution_count": 13,
     "metadata": {},
     "output_type": "execute_result"
    },
    {
     "data": {
      "image/png": "[encoded data removed]",
      "text/plain": [
       "<Figure size 432x288 with 1 Axes>"
      ]
     },
     "metadata": {
      "needs_background": "light"
     },
     "output_type": "display_data"
    }
   ],
   "source": [
    "#Import Each file\n",
    "path01 = 'Census_Substance2014.csv'\n",
    "df_main = pd.read_csv(path01)\n",
    "\n",
    "path02 = 'HSPA_Data1.csv'\n",
    "df2 = pd.read_csv(path02)\n",
    "\n",
    "df_main = df_main.merge(df2, on='FIPS')\n",
    "\n",
    "df_main.head()\n",
    "df_main = df_main.dropna(thresh=26)\n",
    "df_main.to_csv('Substance_HSPA_Census2014_trimmed.csv')\n",
    "df_main.head()\n",
    "plt.scatter(df_main['Unemployment_rate_2014'], df_main['Drug Mortality Rate'] )\n"
   ]
  },
  {
   "cell_type": "code",
   "execution_count": 14,
   "metadata": {},
   "outputs": [],
   "source": [
    "path03= 'McD_Location_FIPS.csv'\n",
    "df3 = pd.read_csv(path03)"
   ]
  },
  {
   "cell_type": "code",
   "execution_count": 15,
   "metadata": {},
   "outputs": [],
   "source": [
    "df3 = df3.groupby('FIPS')\n",
    "df3 = df3.count()\n",
    "df3 = df3.rename(columns={'Unnamed: 0' : 'McDonalds Count'})\n",
    "df3 = df3.drop('properties.addressLine3', axis=1)"
   ]
  },
  {
   "cell_type": "code",
   "execution_count": 16,
   "metadata": {},
   "outputs": [],
   "source": [
    "df_main = df_main.merge(df3, on='FIPS')"
   ]
  },
  {
   "cell_type": "code",
   "execution_count": 17,
   "metadata": {
    "scrolled": true
   },
   "outputs": [
    {
     "data": {
      "text/html": [
       "<div>\n",
       "<style scoped>\n",
       "    .dataframe tbody tr th:only-of-type {\n",
       "        vertical-align: middle;\n",
       "    }\n",
       "\n",
       "    .dataframe tbody tr th {\n",
       "        vertical-align: top;\n",
       "    }\n",
       "\n",
       "    .dataframe thead th {\n",
       "        text-align: right;\n",
       "    }\n",
       "</style>\n",
       "<table border=\"1\" class=\"dataframe\">\n",
       "  <thead>\n",
       "    <tr style=\"text-align: right;\">\n",
       "      <th></th>\n",
       "      <th>Unnamed: 0</th>\n",
       "      <th>FIPS</th>\n",
       "      <th>State</th>\n",
       "      <th>Area_Name</th>\n",
       "      <th>POP_ESTIMATE_2014</th>\n",
       "      <th>HH_income_2014</th>\n",
       "      <th>Unemployment_rate_2014</th>\n",
       "      <th>Alcohol Mortality Rate</th>\n",
       "      <th>Alcohol Mortality Rate(F)</th>\n",
       "      <th>Alcohol Mortality Rate(M)</th>\n",
       "      <th>...</th>\n",
       "      <th>Common State Abbreviation_y</th>\n",
       "      <th>Rural Status Description_y</th>\n",
       "      <th>HPSA Postal Code_y</th>\n",
       "      <th>Provider Type_y</th>\n",
       "      <th>Common County Name_y</th>\n",
       "      <th>HPSA Degree of Shortage_y</th>\n",
       "      <th>HPSA Designation Population_y</th>\n",
       "      <th>HPSA Estimated Served Population_y</th>\n",
       "      <th>HPSA Score_y</th>\n",
       "      <th>HPSA Shortage_y</th>\n",
       "    </tr>\n",
       "  </thead>\n",
       "  <tbody>\n",
       "    <tr>\n",
       "      <th>0</th>\n",
       "      <td>0</td>\n",
       "      <td>1001</td>\n",
       "      <td>AL</td>\n",
       "      <td>Autauga County</td>\n",
       "      <td>54,876</td>\n",
       "      <td>54,366</td>\n",
       "      <td>5.8</td>\n",
       "      <td>1.45</td>\n",
       "      <td>0.90</td>\n",
       "      <td>2.11</td>\n",
       "      <td>...</td>\n",
       "      <td>AL</td>\n",
       "      <td>Non-Rural</td>\n",
       "      <td>NaN</td>\n",
       "      <td>Psychiatrist</td>\n",
       "      <td>Autauga County, AL</td>\n",
       "      <td>Not applicable</td>\n",
       "      <td>138714.0</td>\n",
       "      <td>45800.0</td>\n",
       "      <td>16</td>\n",
       "      <td>6.96</td>\n",
       "    </tr>\n",
       "    <tr>\n",
       "      <th>1</th>\n",
       "      <td>1</td>\n",
       "      <td>1003</td>\n",
       "      <td>AL</td>\n",
       "      <td>Baldwin County</td>\n",
       "      <td>199,189</td>\n",
       "      <td>49,626</td>\n",
       "      <td>6.1</td>\n",
       "      <td>2.53</td>\n",
       "      <td>1.88</td>\n",
       "      <td>3.36</td>\n",
       "      <td>...</td>\n",
       "      <td>AL</td>\n",
       "      <td>Rural</td>\n",
       "      <td>NaN</td>\n",
       "      <td>Psychiatrist</td>\n",
       "      <td>Baldwin County, AL</td>\n",
       "      <td>Not applicable</td>\n",
       "      <td>26601.0</td>\n",
       "      <td>6000.0</td>\n",
       "      <td>15</td>\n",
       "      <td>1.03</td>\n",
       "    </tr>\n",
       "    <tr>\n",
       "      <th>2</th>\n",
       "      <td>1</td>\n",
       "      <td>1003</td>\n",
       "      <td>AL</td>\n",
       "      <td>Baldwin County</td>\n",
       "      <td>199,189</td>\n",
       "      <td>49,626</td>\n",
       "      <td>6.1</td>\n",
       "      <td>2.53</td>\n",
       "      <td>1.88</td>\n",
       "      <td>3.36</td>\n",
       "      <td>...</td>\n",
       "      <td>AL</td>\n",
       "      <td>Non-Rural</td>\n",
       "      <td>NaN</td>\n",
       "      <td>Psychiatrist</td>\n",
       "      <td>Baldwin County, AL</td>\n",
       "      <td>Not applicable</td>\n",
       "      <td>26601.0</td>\n",
       "      <td>6000.0</td>\n",
       "      <td>15</td>\n",
       "      <td>1.03</td>\n",
       "    </tr>\n",
       "    <tr>\n",
       "      <th>3</th>\n",
       "      <td>1</td>\n",
       "      <td>1003</td>\n",
       "      <td>AL</td>\n",
       "      <td>Baldwin County</td>\n",
       "      <td>199,189</td>\n",
       "      <td>49,626</td>\n",
       "      <td>6.1</td>\n",
       "      <td>2.53</td>\n",
       "      <td>1.88</td>\n",
       "      <td>3.36</td>\n",
       "      <td>...</td>\n",
       "      <td>AL</td>\n",
       "      <td>Rural</td>\n",
       "      <td>NaN</td>\n",
       "      <td>Psychiatrist</td>\n",
       "      <td>Baldwin County, AL</td>\n",
       "      <td>Not applicable</td>\n",
       "      <td>26601.0</td>\n",
       "      <td>6000.0</td>\n",
       "      <td>15</td>\n",
       "      <td>1.03</td>\n",
       "    </tr>\n",
       "    <tr>\n",
       "      <th>4</th>\n",
       "      <td>1</td>\n",
       "      <td>1003</td>\n",
       "      <td>AL</td>\n",
       "      <td>Baldwin County</td>\n",
       "      <td>199,189</td>\n",
       "      <td>49,626</td>\n",
       "      <td>6.1</td>\n",
       "      <td>2.53</td>\n",
       "      <td>1.88</td>\n",
       "      <td>3.36</td>\n",
       "      <td>...</td>\n",
       "      <td>AL</td>\n",
       "      <td>Non-Rural</td>\n",
       "      <td>NaN</td>\n",
       "      <td>Psychiatrist</td>\n",
       "      <td>Baldwin County, AL</td>\n",
       "      <td>Not applicable</td>\n",
       "      <td>26601.0</td>\n",
       "      <td>6000.0</td>\n",
       "      <td>15</td>\n",
       "      <td>1.03</td>\n",
       "    </tr>\n",
       "  </tbody>\n",
       "</table>\n",
       "<p>5 rows × 43 columns</p>\n",
       "</div>"
      ],
      "text/plain": [
       "   Unnamed: 0  FIPS State       Area_Name POP_ESTIMATE_2014 HH_income_2014  \\\n",
       "0           0  1001    AL  Autauga County            54,876         54,366   \n",
       "1           1  1003    AL  Baldwin County           199,189         49,626   \n",
       "2           1  1003    AL  Baldwin County           199,189         49,626   \n",
       "3           1  1003    AL  Baldwin County           199,189         49,626   \n",
       "4           1  1003    AL  Baldwin County           199,189         49,626   \n",
       "\n",
       "   Unemployment_rate_2014  Alcohol Mortality Rate  Alcohol Mortality Rate(F)  \\\n",
       "0                     5.8                    1.45                       0.90   \n",
       "1                     6.1                    2.53                       1.88   \n",
       "2                     6.1                    2.53                       1.88   \n",
       "3                     6.1                    2.53                       1.88   \n",
       "4                     6.1                    2.53                       1.88   \n",
       "\n",
       "   Alcohol Mortality Rate(M)  ...  Common State Abbreviation_y  \\\n",
       "0                       2.11  ...                           AL   \n",
       "1                       3.36  ...                           AL   \n",
       "2                       3.36  ...                           AL   \n",
       "3                       3.36  ...                           AL   \n",
       "4                       3.36  ...                           AL   \n",
       "\n",
       "   Rural Status Description_y  HPSA Postal Code_y  Provider Type_y  \\\n",
       "0                   Non-Rural                 NaN     Psychiatrist   \n",
       "1                       Rural                 NaN     Psychiatrist   \n",
       "2                   Non-Rural                 NaN     Psychiatrist   \n",
       "3                       Rural                 NaN     Psychiatrist   \n",
       "4                   Non-Rural                 NaN     Psychiatrist   \n",
       "\n",
       "   Common County Name_y  HPSA Degree of Shortage_y  \\\n",
       "0    Autauga County, AL             Not applicable   \n",
       "1    Baldwin County, AL             Not applicable   \n",
       "2    Baldwin County, AL             Not applicable   \n",
       "3    Baldwin County, AL             Not applicable   \n",
       "4    Baldwin County, AL             Not applicable   \n",
       "\n",
       "   HPSA Designation Population_y  HPSA Estimated Served Population_y  \\\n",
       "0                       138714.0                             45800.0   \n",
       "1                        26601.0                              6000.0   \n",
       "2                        26601.0                              6000.0   \n",
       "3                        26601.0                              6000.0   \n",
       "4                        26601.0                              6000.0   \n",
       "\n",
       "   HPSA Score_y HPSA Shortage_y  \n",
       "0            16            6.96  \n",
       "1            15            1.03  \n",
       "2            15            1.03  \n",
       "3            15            1.03  \n",
       "4            15            1.03  \n",
       "\n",
       "[5 rows x 43 columns]"
      ]
     },
     "execution_count": 17,
     "metadata": {},
     "output_type": "execute_result"
    }
   ],
   "source": [
    "path04 = 'DData.csv'\n",
    "df4 = pd.read_csv(path04)\n",
    "#df4.head()\n",
    "df4 = df4.merge(df2, on='FIPS', how='left')\n",
    "df4.merge(df3, on='FIPS', how='left')\n",
    "df4.head()"
   ]
  },
  {
   "cell_type": "code",
   "execution_count": 18,
   "metadata": {},
   "outputs": [],
   "source": [
    "df4 = df4.T"
   ]
  },
  {
   "cell_type": "code",
   "execution_count": null,
   "metadata": {},
   "outputs": [],
   "source": [
    "df4 = df4.drop_duplicates()"
   ]
  },
  {
   "cell_type": "code",
   "execution_count": null,
   "metadata": {},
   "outputs": [],
   "source": [
    "df4 = df4.T"
   ]
  },
  {
   "cell_type": "code",
   "execution_count": null,
   "metadata": {},
   "outputs": [],
   "source": [
    "df4.head()"
   ]
  },
  {
   "cell_type": "code",
   "execution_count": null,
   "metadata": {},
   "outputs": [],
   "source": [
    "df4.to_csv('McDonalds_Census_Drugs2014.csv')"
   ]
  },
  {
   "cell_type": "code",
   "execution_count": null,
   "metadata": {},
   "outputs": [],
   "source": [
    "df4.columns"
   ]
  },
  {
   "cell_type": "code",
   "execution_count": null,
   "metadata": {},
   "outputs": [],
   "source": []
  }
 ],
 "metadata": {
  "kernelspec": {
   "display_name": "Python 36 (PythonData)",
   "language": "python",
   "name": "pythondata"
  },
  "language_info": {
   "codemirror_mode": {
    "name": "ipython",
    "version": 3
   },
   "file_extension": ".py",
   "mimetype": "text/x-python",
   "name": "python",
   "nbconvert_exporter": "python",
   "pygments_lexer": "ipython3",
   "version": "3.6.8"
  }
 },
 "nbformat": 4,
 "nbformat_minor": 2
}
